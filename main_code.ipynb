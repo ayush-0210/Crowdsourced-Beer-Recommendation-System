{
  "nbformat": 4,
  "nbformat_minor": 0,
  "metadata": {
    "colab": {
      "name": "AnalyticsForUnstructuredData_Assignment2.ipynb",
      "provenance": [],
      "collapsed_sections": [],
      "include_colab_link": true
    },
    "kernelspec": {
      "name": "python3",
      "display_name": "Python 3"
    },
    "language_info": {
      "name": "python"
    },
    "accelerator": "GPU"
  },
  "cells": [
    {
      "cell_type": "markdown",
      "metadata": {
        "id": "view-in-github",
        "colab_type": "text"
      },
      "source": [
        "<a href=\"https://colab.research.google.com/github/ayush-0210/Crowdsourced-Beer-Recommendation-System/blob/main/main_code.ipynb\" target=\"_parent\"><img src=\"https://colab.research.google.com/assets/colab-badge.svg\" alt=\"Open In Colab\"/></a>"
      ]
    },
    {
      "cell_type": "markdown",
      "metadata": {
        "id": "v1GmScMaFI69"
      },
      "source": [
        "Team Members: \n",
        "\n",
        "\n",
        "1.   Sahil Arora (sa52643)\n",
        "2.   Kaushik Kumaran (kk34537)\n",
        "3.   Ayush Malani (am95655)\n",
        "4.   Harsh Mehta (hdm564)\n",
        "5.   Charan Musunuru (cm59982)\n",
        "6.   Allie Touchstone (awt529)\n"
      ]
    },
    {
      "cell_type": "markdown",
      "metadata": {
        "id": "QcL2e-Ics1Q2"
      },
      "source": [
        "## Task A: Scrape Data and Collect ~6000 Beer Reviews"
      ]
    },
    {
      "cell_type": "markdown",
      "metadata": {
        "id": "UKa41ulItIki"
      },
      "source": [
        "This was done using webscraper.io."
      ]
    },
    {
      "cell_type": "markdown",
      "metadata": {
        "id": "bgrwaxcYPK46"
      },
      "source": [
        "## Task B: Attribute Selection using Word Frequencies"
      ]
    },
    {
      "cell_type": "markdown",
      "metadata": {
        "id": "RPJgc68QtOHk"
      },
      "source": [
        "Importing the necessary libraries"
      ]
    },
    {
      "cell_type": "code",
      "metadata": {
        "id": "OvgAR7Blg4Zq",
        "colab": {
          "base_uri": "https://localhost:8080/"
        },
        "outputId": "19497e05-9b02-41a3-88d3-dc28f9d3ad76"
      },
      "source": [
        "# !pip install pandas==1.3.3\n",
        "from sklearn.preprocessing import MinMaxScaler\n",
        "from sklearn.manifold import MDS\n",
        "import pandas as pd\n",
        "import numpy as np\n",
        "import sys\n",
        "import matplotlib.pyplot as plt\n",
        "import pandas as pd\n",
        "import nltk\n",
        "from nltk import word_tokenize\n",
        "nltk.download('stopwords')\n",
        "nltk.download('punkt')\n",
        "from nltk.corpus import stopwords\n",
        "from collections import Counter\n",
        "!pip install vaderSentiment"
      ],
      "execution_count": null,
      "outputs": [
        {
          "output_type": "stream",
          "name": "stdout",
          "text": [
            "[nltk_data] Downloading package stopwords to /root/nltk_data...\n",
            "[nltk_data]   Unzipping corpora/stopwords.zip.\n",
            "[nltk_data] Downloading package punkt to /root/nltk_data...\n",
            "[nltk_data]   Unzipping tokenizers/punkt.zip.\n"
          ]
        }
      ]
    },
    {
      "cell_type": "code",
      "metadata": {
        "id": "lqkhPp81MdX9",
        "colab": {
          "resources": {
            "http://localhost:8080/nbextensions/google.colab/files.js": {
              "data": "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",
              "ok": true,
              "headers": [
                [
                  "content-type",
                  "application/javascript"
                ]
              ],
              "status": 200,
              "status_text": ""
            }
          },
          "base_uri": "https://localhost:8080/",
          "height": 72
        },
        "outputId": "11433192-718b-4274-fe07-25eb001165fa"
      },
      "source": [
        "# Uploading the data frame \n",
        "from google.colab import files\n",
        "uploaded = files.upload()"
      ],
      "execution_count": null,
      "outputs": [
        {
          "output_type": "display_data",
          "data": {
            "text/html": [
              "\n",
              "     <input type=\"file\" id=\"files-c0376124-269c-4162-8292-6d1f2e0f995c\" name=\"files[]\" multiple disabled\n",
              "        style=\"border:none\" />\n",
              "     <output id=\"result-c0376124-269c-4162-8292-6d1f2e0f995c\">\n",
              "      Upload widget is only available when the cell has been executed in the\n",
              "      current browser session. Please rerun this cell to enable.\n",
              "      </output>\n",
              "      <script src=\"/nbextensions/google.colab/files.js\"></script> "
            ],
            "text/plain": [
              "<IPython.core.display.HTML object>"
            ]
          },
          "metadata": {}
        },
        {
          "output_type": "stream",
          "name": "stdout",
          "text": [
            "Saving beeradvocate.csv to beeradvocate.csv\n"
          ]
        }
      ]
    },
    {
      "cell_type": "code",
      "metadata": {
        "id": "DykAgc_GMpic"
      },
      "source": [
        "beer_df = pd.read_csv('beeradvocate.csv')"
      ],
      "execution_count": null,
      "outputs": []
    },
    {
      "cell_type": "code",
      "metadata": {
        "id": "B8NLHZQI5jhl"
      },
      "source": [
        "def word_counts(x):\n",
        "    # Word tokenize your comment\n",
        "    x = str(x)\n",
        "    tokens = word_tokenize(x)\n",
        "    # Collecting the stopwords\n",
        "    stop_words = set(stopwords.words('english'))\n",
        "    \n",
        "    # Removing the stopwords\n",
        "    tokens_rm_stp = []\n",
        "    for token in tokens:\n",
        "        lt = token.lower() \n",
        "        if lt not in stop_words:\n",
        "            tokens_rm_stp.append(lt)\n",
        "    \n",
        "    # Creating a word frequency dictionary\n",
        "    counter = Counter(tokens_rm_stp)\n",
        "    return counter"
      ],
      "execution_count": null,
      "outputs": []
    },
    {
      "cell_type": "code",
      "metadata": {
        "id": "DzT35oq3Iyz4"
      },
      "source": [
        "beer_count = pd.DataFrame(list(beer_df['product_review'].map(word_counts)))\n",
        "beer_count = beer_count.fillna(0)\n",
        "beer_counts = pd.DataFrame(beer_count.sum().sort_values(ascending = False))"
      ],
      "execution_count": null,
      "outputs": []
    },
    {
      "cell_type": "code",
      "metadata": {
        "colab": {
          "base_uri": "https://localhost:8080/",
          "height": 1000
        },
        "id": "3VhCMDUENeut",
        "outputId": "b54b016a-13c0-4720-ca9b-00688824bdf9"
      },
      "source": [
        "beer_counts.head(60)"
      ],
      "execution_count": null,
      "outputs": [
        {
          "output_type": "execute_result",
          "data": {
            "text/html": [
              "<div>\n",
              "<style scoped>\n",
              "    .dataframe tbody tr th:only-of-type {\n",
              "        vertical-align: middle;\n",
              "    }\n",
              "\n",
              "    .dataframe tbody tr th {\n",
              "        vertical-align: top;\n",
              "    }\n",
              "\n",
              "    .dataframe thead th {\n",
              "        text-align: right;\n",
              "    }\n",
              "</style>\n",
              "<table border=\"1\" class=\"dataframe\">\n",
              "  <thead>\n",
              "    <tr style=\"text-align: right;\">\n",
              "      <th></th>\n",
              "      <th>0</th>\n",
              "    </tr>\n",
              "  </thead>\n",
              "  <tbody>\n",
              "    <tr>\n",
              "      <th>.</th>\n",
              "      <td>47491.0</td>\n",
              "    </tr>\n",
              "    <tr>\n",
              "      <th>,</th>\n",
              "      <td>45201.0</td>\n",
              "    </tr>\n",
              "    <tr>\n",
              "      <th>:</th>\n",
              "      <td>5273.0</td>\n",
              "    </tr>\n",
              "    <tr>\n",
              "      <th>beer</th>\n",
              "      <td>4994.0</td>\n",
              "    </tr>\n",
              "    <tr>\n",
              "      <th>head</th>\n",
              "      <td>3804.0</td>\n",
              "    </tr>\n",
              "    <tr>\n",
              "      <th>taste</th>\n",
              "      <td>3115.0</td>\n",
              "    </tr>\n",
              "    <tr>\n",
              "      <th>chocolate</th>\n",
              "      <td>2844.0</td>\n",
              "    </tr>\n",
              "    <tr>\n",
              "      <th>dark</th>\n",
              "      <td>2738.0</td>\n",
              "    </tr>\n",
              "    <tr>\n",
              "      <th>'s</th>\n",
              "      <td>2697.0</td>\n",
              "    </tr>\n",
              "    <tr>\n",
              "      <th>-</th>\n",
              "      <td>2683.0</td>\n",
              "    </tr>\n",
              "    <tr>\n",
              "      <th>sweet</th>\n",
              "      <td>2403.0</td>\n",
              "    </tr>\n",
              "    <tr>\n",
              "      <th>like</th>\n",
              "      <td>2356.0</td>\n",
              "    </tr>\n",
              "    <tr>\n",
              "      <th>one</th>\n",
              "      <td>2261.0</td>\n",
              "    </tr>\n",
              "    <tr>\n",
              "      <th>coffee</th>\n",
              "      <td>2190.0</td>\n",
              "    </tr>\n",
              "    <tr>\n",
              "      <th>bourbon</th>\n",
              "      <td>2127.0</td>\n",
              "    </tr>\n",
              "    <tr>\n",
              "      <th>nice</th>\n",
              "      <td>2070.0</td>\n",
              "    </tr>\n",
              "    <tr>\n",
              "      <th>vanilla</th>\n",
              "      <td>2067.0</td>\n",
              "    </tr>\n",
              "    <tr>\n",
              "      <th>notes</th>\n",
              "      <td>2059.0</td>\n",
              "    </tr>\n",
              "    <tr>\n",
              "      <th>nose</th>\n",
              "      <td>2046.0</td>\n",
              "    </tr>\n",
              "    <tr>\n",
              "      <th>!</th>\n",
              "      <td>2035.0</td>\n",
              "    </tr>\n",
              "    <tr>\n",
              "      <th>’</th>\n",
              "      <td>1969.0</td>\n",
              "    </tr>\n",
              "    <tr>\n",
              "      <th>good</th>\n",
              "      <td>1958.0</td>\n",
              "    </tr>\n",
              "    <tr>\n",
              "      <th>well</th>\n",
              "      <td>1896.0</td>\n",
              "    </tr>\n",
              "    <tr>\n",
              "      <th>light</th>\n",
              "      <td>1829.0</td>\n",
              "    </tr>\n",
              "    <tr>\n",
              "      <th>finish</th>\n",
              "      <td>1815.0</td>\n",
              "    </tr>\n",
              "    <tr>\n",
              "      <th>pours</th>\n",
              "      <td>1790.0</td>\n",
              "    </tr>\n",
              "    <tr>\n",
              "      <th>carbonation</th>\n",
              "      <td>1770.0</td>\n",
              "    </tr>\n",
              "    <tr>\n",
              "      <th>fruit</th>\n",
              "      <td>1730.0</td>\n",
              "    </tr>\n",
              "    <tr>\n",
              "      <th>aroma</th>\n",
              "      <td>1727.0</td>\n",
              "    </tr>\n",
              "    <tr>\n",
              "      <th>bottle</th>\n",
              "      <td>1702.0</td>\n",
              "    </tr>\n",
              "    <tr>\n",
              "      <th>bit</th>\n",
              "      <td>1652.0</td>\n",
              "    </tr>\n",
              "    <tr>\n",
              "      <th>orange</th>\n",
              "      <td>1636.0</td>\n",
              "    </tr>\n",
              "    <tr>\n",
              "      <th>body</th>\n",
              "      <td>1635.0</td>\n",
              "    </tr>\n",
              "    <tr>\n",
              "      <th>overall</th>\n",
              "      <td>1599.0</td>\n",
              "    </tr>\n",
              "    <tr>\n",
              "      <th>mouthfeel</th>\n",
              "      <td>1593.0</td>\n",
              "    </tr>\n",
              "    <tr>\n",
              "      <th>black</th>\n",
              "      <td>1579.0</td>\n",
              "    </tr>\n",
              "    <tr>\n",
              "      <th>white</th>\n",
              "      <td>1560.0</td>\n",
              "    </tr>\n",
              "    <tr>\n",
              "      <th>really</th>\n",
              "      <td>1549.0</td>\n",
              "    </tr>\n",
              "    <tr>\n",
              "      <th>flavor</th>\n",
              "      <td>1524.0</td>\n",
              "    </tr>\n",
              "    <tr>\n",
              "      <th>barrel</th>\n",
              "      <td>1487.0</td>\n",
              "    </tr>\n",
              "    <tr>\n",
              "      <th>;</th>\n",
              "      <td>1463.0</td>\n",
              "    </tr>\n",
              "    <tr>\n",
              "      <th>medium</th>\n",
              "      <td>1457.0</td>\n",
              "    </tr>\n",
              "    <tr>\n",
              "      <th>great</th>\n",
              "      <td>1444.0</td>\n",
              "    </tr>\n",
              "    <tr>\n",
              "      <th>oak</th>\n",
              "      <td>1440.0</td>\n",
              "    </tr>\n",
              "    <tr>\n",
              "      <th>lacing</th>\n",
              "      <td>1438.0</td>\n",
              "    </tr>\n",
              "    <tr>\n",
              "      <th>glass</th>\n",
              "      <td>1423.0</td>\n",
              "    </tr>\n",
              "    <tr>\n",
              "      <th>smooth</th>\n",
              "      <td>1420.0</td>\n",
              "    </tr>\n",
              "    <tr>\n",
              "      <th>little</th>\n",
              "      <td>1417.0</td>\n",
              "    </tr>\n",
              "    <tr>\n",
              "      <th>thick</th>\n",
              "      <td>1402.0</td>\n",
              "    </tr>\n",
              "    <tr>\n",
              "      <th>n't</th>\n",
              "      <td>1360.0</td>\n",
              "    </tr>\n",
              "    <tr>\n",
              "      <th>brown</th>\n",
              "      <td>1328.0</td>\n",
              "    </tr>\n",
              "    <tr>\n",
              "      <th>)</th>\n",
              "      <td>1327.0</td>\n",
              "    </tr>\n",
              "    <tr>\n",
              "      <th>flavors</th>\n",
              "      <td>1320.0</td>\n",
              "    </tr>\n",
              "    <tr>\n",
              "      <th>citrus</th>\n",
              "      <td>1317.0</td>\n",
              "    </tr>\n",
              "    <tr>\n",
              "      <th>(</th>\n",
              "      <td>1317.0</td>\n",
              "    </tr>\n",
              "    <tr>\n",
              "      <th>smell</th>\n",
              "      <td>1231.0</td>\n",
              "    </tr>\n",
              "    <tr>\n",
              "      <th>color</th>\n",
              "      <td>1227.0</td>\n",
              "    </tr>\n",
              "    <tr>\n",
              "      <th>feel</th>\n",
              "      <td>1221.0</td>\n",
              "    </tr>\n",
              "    <tr>\n",
              "      <th>malt</th>\n",
              "      <td>1187.0</td>\n",
              "    </tr>\n",
              "    <tr>\n",
              "      <th>poured</th>\n",
              "      <td>1173.0</td>\n",
              "    </tr>\n",
              "  </tbody>\n",
              "</table>\n",
              "</div>"
            ],
            "text/plain": [
              "                   0\n",
              ".            47491.0\n",
              ",            45201.0\n",
              ":             5273.0\n",
              "beer          4994.0\n",
              "head          3804.0\n",
              "taste         3115.0\n",
              "chocolate     2844.0\n",
              "dark          2738.0\n",
              "'s            2697.0\n",
              "-             2683.0\n",
              "sweet         2403.0\n",
              "like          2356.0\n",
              "one           2261.0\n",
              "coffee        2190.0\n",
              "bourbon       2127.0\n",
              "nice          2070.0\n",
              "vanilla       2067.0\n",
              "notes         2059.0\n",
              "nose          2046.0\n",
              "!             2035.0\n",
              "’             1969.0\n",
              "good          1958.0\n",
              "well          1896.0\n",
              "light         1829.0\n",
              "finish        1815.0\n",
              "pours         1790.0\n",
              "carbonation   1770.0\n",
              "fruit         1730.0\n",
              "aroma         1727.0\n",
              "bottle        1702.0\n",
              "bit           1652.0\n",
              "orange        1636.0\n",
              "body          1635.0\n",
              "overall       1599.0\n",
              "mouthfeel     1593.0\n",
              "black         1579.0\n",
              "white         1560.0\n",
              "really        1549.0\n",
              "flavor        1524.0\n",
              "barrel        1487.0\n",
              ";             1463.0\n",
              "medium        1457.0\n",
              "great         1444.0\n",
              "oak           1440.0\n",
              "lacing        1438.0\n",
              "glass         1423.0\n",
              "smooth        1420.0\n",
              "little        1417.0\n",
              "thick         1402.0\n",
              "n't           1360.0\n",
              "brown         1328.0\n",
              ")             1327.0\n",
              "flavors       1320.0\n",
              "citrus        1317.0\n",
              "(             1317.0\n",
              "smell         1231.0\n",
              "color         1227.0\n",
              "feel          1221.0\n",
              "malt          1187.0\n",
              "poured        1173.0"
            ]
          },
          "metadata": {},
          "execution_count": 41
        }
      ]
    },
    {
      "cell_type": "markdown",
      "metadata": {
        "id": "DoXuBUeXSbrm"
      },
      "source": [
        "Attributes Chosen:\n",
        "\n",
        "•\tAggressive: Boldly assertive aroma and/or taste <br>\n",
        "•\tBalanced: Equal representation of malt sweetness and hop bitterness in the flavor — especially at the finish <br>\n",
        "•\tFruity: Flavors reminiscent of various fruits <br>"
      ]
    },
    {
      "cell_type": "code",
      "metadata": {
        "id": "YdM6oD3t81CN"
      },
      "source": [
        "# Replaced 'I want beer' with three atrributes. It is better if it is in a sentence.\n",
        "y = 'Aggressive Balanced Fruity' "
      ],
      "execution_count": null,
      "outputs": []
    },
    {
      "cell_type": "code",
      "metadata": {
        "colab": {
          "base_uri": "https://localhost:8080/",
          "height": 419
        },
        "id": "xjKXG94rVity",
        "outputId": "00e70090-c4db-4227-f520-813d7dad2962"
      },
      "source": [
        "beer_df"
      ],
      "execution_count": null,
      "outputs": [
        {
          "output_type": "execute_result",
          "data": {
            "text/html": [
              "<div>\n",
              "<style scoped>\n",
              "    .dataframe tbody tr th:only-of-type {\n",
              "        vertical-align: middle;\n",
              "    }\n",
              "\n",
              "    .dataframe tbody tr th {\n",
              "        vertical-align: top;\n",
              "    }\n",
              "\n",
              "    .dataframe thead th {\n",
              "        text-align: right;\n",
              "    }\n",
              "</style>\n",
              "<table border=\"1\" class=\"dataframe\">\n",
              "  <thead>\n",
              "    <tr style=\"text-align: right;\">\n",
              "      <th></th>\n",
              "      <th>product_name</th>\n",
              "      <th>product_rating</th>\n",
              "      <th>product_review</th>\n",
              "    </tr>\n",
              "  </thead>\n",
              "  <tbody>\n",
              "    <tr>\n",
              "      <th>0</th>\n",
              "      <td>Omega Point</td>\n",
              "      <td>4.72</td>\n",
              "      <td>22oz. capped bottle into a Brooklyn Brewery sn...</td>\n",
              "    </tr>\n",
              "    <tr>\n",
              "      <th>1</th>\n",
              "      <td>Trappistes Rochefort 10</td>\n",
              "      <td>4.15</td>\n",
              "      <td>This is a wonderful Quad, but the alcohol note...</td>\n",
              "    </tr>\n",
              "    <tr>\n",
              "      <th>2</th>\n",
              "      <td>Double Nelson</td>\n",
              "      <td>4.39</td>\n",
              "      <td>750mL growler from the brewery. Pours a hazy p...</td>\n",
              "    </tr>\n",
              "    <tr>\n",
              "      <th>3</th>\n",
              "      <td>Great</td>\n",
              "      <td>4.75</td>\n",
              "      <td>Deep amber with a surprisingly thick, white he...</td>\n",
              "    </tr>\n",
              "    <tr>\n",
              "      <th>4</th>\n",
              "      <td>West Ashley</td>\n",
              "      <td>3.86</td>\n",
              "      <td>Pours a cloudy orange colored beer with a medi...</td>\n",
              "    </tr>\n",
              "    <tr>\n",
              "      <th>...</th>\n",
              "      <td>...</td>\n",
              "      <td>...</td>\n",
              "      <td>...</td>\n",
              "    </tr>\n",
              "    <tr>\n",
              "      <th>6222</th>\n",
              "      <td>Flora</td>\n",
              "      <td>4.60</td>\n",
              "      <td>Florence is probably my favorite shelf Saison ...</td>\n",
              "    </tr>\n",
              "    <tr>\n",
              "      <th>6223</th>\n",
              "      <td>Juice Machine</td>\n",
              "      <td>4.42</td>\n",
              "      <td>Canned on 8/5/20. Poured into a gravity pint g...</td>\n",
              "    </tr>\n",
              "    <tr>\n",
              "      <th>6224</th>\n",
              "      <td>Double Sunshine</td>\n",
              "      <td>4.13</td>\n",
              "      <td>29JUL20 saw a second visit to Lawson's in 2 da...</td>\n",
              "    </tr>\n",
              "    <tr>\n",
              "      <th>6225</th>\n",
              "      <td>Imperial German Chocolate Cupcake Stout</td>\n",
              "      <td>4.41</td>\n",
              "      <td>750ml bottle poured into a snifter\\n\\n\\n\\nA- p...</td>\n",
              "    </tr>\n",
              "    <tr>\n",
              "      <th>6226</th>\n",
              "      <td>Juicy</td>\n",
              "      <td>4.50</td>\n",
              "      <td>Poured from a bottle into a Dogfish Head tulip...</td>\n",
              "    </tr>\n",
              "  </tbody>\n",
              "</table>\n",
              "<p>6227 rows × 3 columns</p>\n",
              "</div>"
            ],
            "text/plain": [
              "                                 product_name  ...                                     product_review\n",
              "0                                 Omega Point  ...  22oz. capped bottle into a Brooklyn Brewery sn...\n",
              "1                     Trappistes Rochefort 10  ...  This is a wonderful Quad, but the alcohol note...\n",
              "2                               Double Nelson  ...  750mL growler from the brewery. Pours a hazy p...\n",
              "3                                       Great  ...  Deep amber with a surprisingly thick, white he...\n",
              "4                                 West Ashley  ...  Pours a cloudy orange colored beer with a medi...\n",
              "...                                       ...  ...                                                ...\n",
              "6222                                    Flora  ...  Florence is probably my favorite shelf Saison ...\n",
              "6223                            Juice Machine  ...  Canned on 8/5/20. Poured into a gravity pint g...\n",
              "6224                          Double Sunshine  ...  29JUL20 saw a second visit to Lawson's in 2 da...\n",
              "6225  Imperial German Chocolate Cupcake Stout  ...  750ml bottle poured into a snifter\\n\\n\\n\\nA- p...\n",
              "6226                                    Juicy  ...  Poured from a bottle into a Dogfish Head tulip...\n",
              "\n",
              "[6227 rows x 3 columns]"
            ]
          },
          "metadata": {},
          "execution_count": 43
        }
      ]
    },
    {
      "cell_type": "code",
      "metadata": {
        "id": "DLuXAn6V-XJa"
      },
      "source": [
        "beer_df.dropna(inplace=True)"
      ],
      "execution_count": null,
      "outputs": []
    },
    {
      "cell_type": "markdown",
      "metadata": {
        "id": "zV8qK7QAQQrq"
      },
      "source": [
        "## Task C: Cosine Similarity"
      ]
    },
    {
      "cell_type": "code",
      "metadata": {
        "id": "46VOufHnQSN6"
      },
      "source": [
        "from sklearn.metrics.pairwise import cosine_similarity\n",
        "from sklearn.feature_extraction.text import TfidfVectorizer\n",
        "\n",
        "def cos_sim(x):\n",
        "    corpus = [x,y]\n",
        "    vectorizer = TfidfVectorizer()\n",
        "    trsfm = vectorizer.fit_transform(corpus)\n",
        "    return cosine_similarity(trsfm[0], trsfm)[0][1]"
      ],
      "execution_count": null,
      "outputs": []
    },
    {
      "cell_type": "code",
      "metadata": {
        "id": "poQjiArEQaon"
      },
      "source": [
        "beer_df['sim_scores_with_attr'] = beer_df['product_review'].map(cos_sim)"
      ],
      "execution_count": null,
      "outputs": []
    },
    {
      "cell_type": "code",
      "metadata": {
        "colab": {
          "base_uri": "https://localhost:8080/",
          "height": 419
        },
        "id": "-8kLHn5DV1Xg",
        "outputId": "2ca31aa8-d64f-4c61-cf23-47d6e3a1f0c6"
      },
      "source": [
        "beer_df[beer_df['sim_scores_with_attr'] != 0.000000]"
      ],
      "execution_count": null,
      "outputs": [
        {
          "output_type": "execute_result",
          "data": {
            "text/html": [
              "<div>\n",
              "<style scoped>\n",
              "    .dataframe tbody tr th:only-of-type {\n",
              "        vertical-align: middle;\n",
              "    }\n",
              "\n",
              "    .dataframe tbody tr th {\n",
              "        vertical-align: top;\n",
              "    }\n",
              "\n",
              "    .dataframe thead th {\n",
              "        text-align: right;\n",
              "    }\n",
              "</style>\n",
              "<table border=\"1\" class=\"dataframe\">\n",
              "  <thead>\n",
              "    <tr style=\"text-align: right;\">\n",
              "      <th></th>\n",
              "      <th>product_name</th>\n",
              "      <th>product_rating</th>\n",
              "      <th>product_review</th>\n",
              "      <th>sim_scores_with_attr</th>\n",
              "    </tr>\n",
              "  </thead>\n",
              "  <tbody>\n",
              "    <tr>\n",
              "      <th>5</th>\n",
              "      <td>Double Dry Hopped Congress Street</td>\n",
              "      <td>4.65</td>\n",
              "      <td>Had on tap at brewery August 2019\\n\\n\\n\\nWorld...</td>\n",
              "      <td>0.046395</td>\n",
              "    </tr>\n",
              "    <tr>\n",
              "      <th>7</th>\n",
              "      <td>Crusher</td>\n",
              "      <td>4.57</td>\n",
              "      <td>No date on the can, but this one's pretty fres...</td>\n",
              "      <td>0.014030</td>\n",
              "    </tr>\n",
              "    <tr>\n",
              "      <th>8</th>\n",
              "      <td>Double Dry Hopped Congress Street</td>\n",
              "      <td>4.18</td>\n",
              "      <td>1 pint can\\n\\nServed in an oversized, stemless...</td>\n",
              "      <td>0.027074</td>\n",
              "    </tr>\n",
              "    <tr>\n",
              "      <th>10</th>\n",
              "      <td>Black &amp; Wild</td>\n",
              "      <td>4.66</td>\n",
              "      <td>8oz pour on draft at the brewery tasting room....</td>\n",
              "      <td>0.028544</td>\n",
              "    </tr>\n",
              "    <tr>\n",
              "      <th>17</th>\n",
              "      <td>Emerald Grouper</td>\n",
              "      <td>4.05</td>\n",
              "      <td>eyes...\\n\\nmassive carbonation erupts from thi...</td>\n",
              "      <td>0.012386</td>\n",
              "    </tr>\n",
              "    <tr>\n",
              "      <th>...</th>\n",
              "      <td>...</td>\n",
              "      <td>...</td>\n",
              "      <td>...</td>\n",
              "      <td>...</td>\n",
              "    </tr>\n",
              "    <tr>\n",
              "      <th>6209</th>\n",
              "      <td>Pliny The Younger</td>\n",
              "      <td>4.65</td>\n",
              "      <td>Stoked to finally get to try this one. My best...</td>\n",
              "      <td>0.011359</td>\n",
              "    </tr>\n",
              "    <tr>\n",
              "      <th>6217</th>\n",
              "      <td>Ephraim</td>\n",
              "      <td>4.60</td>\n",
              "      <td>Bright, refereshing, peppery, orange citrus, p...</td>\n",
              "      <td>0.127847</td>\n",
              "    </tr>\n",
              "    <tr>\n",
              "      <th>6218</th>\n",
              "      <td>Notorious Triple IPA</td>\n",
              "      <td>4.86</td>\n",
              "      <td>L- pours a hazy orange color with a half inch ...</td>\n",
              "      <td>0.036559</td>\n",
              "    </tr>\n",
              "    <tr>\n",
              "      <th>6219</th>\n",
              "      <td>Speedway Stout - Bourbon Barrel-Aged</td>\n",
              "      <td>4.49</td>\n",
              "      <td>Bottled 10/30/13.\\n\\n\\n\\nNice dark pour, not t...</td>\n",
              "      <td>0.023868</td>\n",
              "    </tr>\n",
              "    <tr>\n",
              "      <th>6226</th>\n",
              "      <td>Juicy</td>\n",
              "      <td>4.50</td>\n",
              "      <td>Poured from a bottle into a Dogfish Head tulip...</td>\n",
              "      <td>0.052925</td>\n",
              "    </tr>\n",
              "  </tbody>\n",
              "</table>\n",
              "<p>1175 rows × 4 columns</p>\n",
              "</div>"
            ],
            "text/plain": [
              "                              product_name  ...  sim_scores_with_attr\n",
              "5        Double Dry Hopped Congress Street  ...              0.046395\n",
              "7                                  Crusher  ...              0.014030\n",
              "8        Double Dry Hopped Congress Street  ...              0.027074\n",
              "10                            Black & Wild  ...              0.028544\n",
              "17                         Emerald Grouper  ...              0.012386\n",
              "...                                    ...  ...                   ...\n",
              "6209                     Pliny The Younger  ...              0.011359\n",
              "6217                               Ephraim  ...              0.127847\n",
              "6218                  Notorious Triple IPA  ...              0.036559\n",
              "6219  Speedway Stout - Bourbon Barrel-Aged  ...              0.023868\n",
              "6226                                 Juicy  ...              0.052925\n",
              "\n",
              "[1175 rows x 4 columns]"
            ]
          },
          "metadata": {},
          "execution_count": 47
        }
      ]
    },
    {
      "cell_type": "markdown",
      "metadata": {
        "id": "pBaAl4QUQjwG"
      },
      "source": [
        "## Task D: Sentiment Analysis"
      ]
    },
    {
      "cell_type": "code",
      "metadata": {
        "id": "KiQWNC7hQlMd"
      },
      "source": [
        "from vaderSentiment.vaderSentiment import SentimentIntensityAnalyzer\n",
        "analyser = SentimentIntensityAnalyzer()\n",
        "def get_sentiment(review, **kwargs):\n",
        "    sentiment_score = analyser.polarity_scores(review)\n",
        "    positive_meter = round((sentiment_score['pos'] * 100), 2)\n",
        "    negative_meter = round((sentiment_score['neg'] * 100), 2)\n",
        "    return positive_meter if kwargs['k'] == 'positive' else negative_meter"
      ],
      "execution_count": null,
      "outputs": []
    },
    {
      "cell_type": "code",
      "metadata": {
        "id": "TYgFOzfvQn-3"
      },
      "source": [
        "beer_df['positive_sent_score'] = beer_df['product_review'].apply(get_sentiment, k='positive')\n",
        "beer_df['negative_sent_score'] = beer_df['product_review'].apply(get_sentiment, k='negative')"
      ],
      "execution_count": null,
      "outputs": []
    },
    {
      "cell_type": "code",
      "metadata": {
        "id": "4M6LkVwRQqLf",
        "colab": {
          "base_uri": "https://localhost:8080/",
          "height": 419
        },
        "outputId": "3f3b1519-8910-4068-8839-040b2ab46d8a"
      },
      "source": [
        "beer_df"
      ],
      "execution_count": null,
      "outputs": [
        {
          "output_type": "execute_result",
          "data": {
            "text/html": [
              "<div>\n",
              "<style scoped>\n",
              "    .dataframe tbody tr th:only-of-type {\n",
              "        vertical-align: middle;\n",
              "    }\n",
              "\n",
              "    .dataframe tbody tr th {\n",
              "        vertical-align: top;\n",
              "    }\n",
              "\n",
              "    .dataframe thead th {\n",
              "        text-align: right;\n",
              "    }\n",
              "</style>\n",
              "<table border=\"1\" class=\"dataframe\">\n",
              "  <thead>\n",
              "    <tr style=\"text-align: right;\">\n",
              "      <th></th>\n",
              "      <th>product_name</th>\n",
              "      <th>product_rating</th>\n",
              "      <th>product_review</th>\n",
              "      <th>sim_scores_with_attr</th>\n",
              "      <th>positive_sent_score</th>\n",
              "      <th>negative_sent_score</th>\n",
              "    </tr>\n",
              "  </thead>\n",
              "  <tbody>\n",
              "    <tr>\n",
              "      <th>0</th>\n",
              "      <td>Omega Point</td>\n",
              "      <td>4.72</td>\n",
              "      <td>22oz. capped bottle into a Brooklyn Brewery sn...</td>\n",
              "      <td>0.000000</td>\n",
              "      <td>15.2</td>\n",
              "      <td>2.1</td>\n",
              "    </tr>\n",
              "    <tr>\n",
              "      <th>1</th>\n",
              "      <td>Trappistes Rochefort 10</td>\n",
              "      <td>4.15</td>\n",
              "      <td>This is a wonderful Quad, but the alcohol note...</td>\n",
              "      <td>0.000000</td>\n",
              "      <td>19.1</td>\n",
              "      <td>13.4</td>\n",
              "    </tr>\n",
              "    <tr>\n",
              "      <th>2</th>\n",
              "      <td>Double Nelson</td>\n",
              "      <td>4.39</td>\n",
              "      <td>750mL growler from the brewery. Pours a hazy p...</td>\n",
              "      <td>0.000000</td>\n",
              "      <td>7.8</td>\n",
              "      <td>0.0</td>\n",
              "    </tr>\n",
              "    <tr>\n",
              "      <th>3</th>\n",
              "      <td>Great</td>\n",
              "      <td>4.75</td>\n",
              "      <td>Deep amber with a surprisingly thick, white he...</td>\n",
              "      <td>0.000000</td>\n",
              "      <td>36.6</td>\n",
              "      <td>0.0</td>\n",
              "    </tr>\n",
              "    <tr>\n",
              "      <th>4</th>\n",
              "      <td>West Ashley</td>\n",
              "      <td>3.86</td>\n",
              "      <td>Pours a cloudy orange colored beer with a medi...</td>\n",
              "      <td>0.000000</td>\n",
              "      <td>15.7</td>\n",
              "      <td>4.2</td>\n",
              "    </tr>\n",
              "    <tr>\n",
              "      <th>...</th>\n",
              "      <td>...</td>\n",
              "      <td>...</td>\n",
              "      <td>...</td>\n",
              "      <td>...</td>\n",
              "      <td>...</td>\n",
              "      <td>...</td>\n",
              "    </tr>\n",
              "    <tr>\n",
              "      <th>6222</th>\n",
              "      <td>Flora</td>\n",
              "      <td>4.60</td>\n",
              "      <td>Florence is probably my favorite shelf Saison ...</td>\n",
              "      <td>0.000000</td>\n",
              "      <td>20.0</td>\n",
              "      <td>8.0</td>\n",
              "    </tr>\n",
              "    <tr>\n",
              "      <th>6223</th>\n",
              "      <td>Juice Machine</td>\n",
              "      <td>4.42</td>\n",
              "      <td>Canned on 8/5/20. Poured into a gravity pint g...</td>\n",
              "      <td>0.000000</td>\n",
              "      <td>6.6</td>\n",
              "      <td>10.0</td>\n",
              "    </tr>\n",
              "    <tr>\n",
              "      <th>6224</th>\n",
              "      <td>Double Sunshine</td>\n",
              "      <td>4.13</td>\n",
              "      <td>29JUL20 saw a second visit to Lawson's in 2 da...</td>\n",
              "      <td>0.000000</td>\n",
              "      <td>8.3</td>\n",
              "      <td>3.7</td>\n",
              "    </tr>\n",
              "    <tr>\n",
              "      <th>6225</th>\n",
              "      <td>Imperial German Chocolate Cupcake Stout</td>\n",
              "      <td>4.41</td>\n",
              "      <td>750ml bottle poured into a snifter\\n\\n\\n\\nA- p...</td>\n",
              "      <td>0.000000</td>\n",
              "      <td>13.7</td>\n",
              "      <td>2.3</td>\n",
              "    </tr>\n",
              "    <tr>\n",
              "      <th>6226</th>\n",
              "      <td>Juicy</td>\n",
              "      <td>4.50</td>\n",
              "      <td>Poured from a bottle into a Dogfish Head tulip...</td>\n",
              "      <td>0.052925</td>\n",
              "      <td>20.6</td>\n",
              "      <td>5.2</td>\n",
              "    </tr>\n",
              "  </tbody>\n",
              "</table>\n",
              "<p>6224 rows × 6 columns</p>\n",
              "</div>"
            ],
            "text/plain": [
              "                                 product_name  ...  negative_sent_score\n",
              "0                                 Omega Point  ...                  2.1\n",
              "1                     Trappistes Rochefort 10  ...                 13.4\n",
              "2                               Double Nelson  ...                  0.0\n",
              "3                                       Great  ...                  0.0\n",
              "4                                 West Ashley  ...                  4.2\n",
              "...                                       ...  ...                  ...\n",
              "6222                                    Flora  ...                  8.0\n",
              "6223                            Juice Machine  ...                 10.0\n",
              "6224                          Double Sunshine  ...                  3.7\n",
              "6225  Imperial German Chocolate Cupcake Stout  ...                  2.3\n",
              "6226                                    Juicy  ...                  5.2\n",
              "\n",
              "[6224 rows x 6 columns]"
            ]
          },
          "metadata": {},
          "execution_count": 50
        }
      ]
    },
    {
      "cell_type": "code",
      "metadata": {
        "id": "xZjbPcL_RNuM",
        "colab": {
          "base_uri": "https://localhost:8080/"
        },
        "outputId": "a026ce02-0e38-49fc-d5ba-fb14d03f017e"
      },
      "source": [
        "beer_df[beer_df['sim_scores_with_attr']==0].shape[0]"
      ],
      "execution_count": null,
      "outputs": [
        {
          "output_type": "execute_result",
          "data": {
            "text/plain": [
              "5049"
            ]
          },
          "metadata": {},
          "execution_count": 51
        }
      ]
    },
    {
      "cell_type": "markdown",
      "metadata": {
        "id": "b11FSBlfj_Zp"
      },
      "source": [
        "## Task E: Evaluation Score"
      ]
    },
    {
      "cell_type": "code",
      "metadata": {
        "colab": {
          "base_uri": "https://localhost:8080/",
          "height": 173
        },
        "id": "D6Y-uvue49l9",
        "outputId": "0a8d70c6-653c-422d-d3af-d2c16fffc204"
      },
      "source": [
        "score_df = beer_df.groupby('product_name')[['positive_sent_score','sim_scores_with_attr']].mean()\n",
        "score_df['positive_sent_score_scaled'] = (score_df['positive_sent_score']  - score_df['positive_sent_score'] .min())/(score_df['positive_sent_score'].max() - score_df['positive_sent_score'].min())\n",
        "score_df['final_score'] = score_df['positive_sent_score_scaled'] + score_df['sim_scores_with_attr']\n",
        "score_df.sort_values(by='final_score',ascending=False)[:3]"
      ],
      "execution_count": null,
      "outputs": [
        {
          "output_type": "execute_result",
          "data": {
            "text/html": [
              "<div>\n",
              "<style scoped>\n",
              "    .dataframe tbody tr th:only-of-type {\n",
              "        vertical-align: middle;\n",
              "    }\n",
              "\n",
              "    .dataframe tbody tr th {\n",
              "        vertical-align: top;\n",
              "    }\n",
              "\n",
              "    .dataframe thead th {\n",
              "        text-align: right;\n",
              "    }\n",
              "</style>\n",
              "<table border=\"1\" class=\"dataframe\">\n",
              "  <thead>\n",
              "    <tr style=\"text-align: right;\">\n",
              "      <th></th>\n",
              "      <th>positive_sent_score</th>\n",
              "      <th>sim_scores_with_attr</th>\n",
              "      <th>positive_sent_score_scaled</th>\n",
              "      <th>final_score</th>\n",
              "    </tr>\n",
              "    <tr>\n",
              "      <th>product_name</th>\n",
              "      <th></th>\n",
              "      <th></th>\n",
              "      <th></th>\n",
              "      <th></th>\n",
              "    </tr>\n",
              "  </thead>\n",
              "  <tbody>\n",
              "    <tr>\n",
              "      <th>DFPF</th>\n",
              "      <td>24.420</td>\n",
              "      <td>0.015545</td>\n",
              "      <td>1.000000</td>\n",
              "      <td>1.015545</td>\n",
              "    </tr>\n",
              "    <tr>\n",
              "      <th>Flora Plum</th>\n",
              "      <td>22.712</td>\n",
              "      <td>0.012354</td>\n",
              "      <td>0.855646</td>\n",
              "      <td>0.867999</td>\n",
              "    </tr>\n",
              "    <tr>\n",
              "      <th>Rare Scooop</th>\n",
              "      <td>22.488</td>\n",
              "      <td>0.001818</td>\n",
              "      <td>0.836714</td>\n",
              "      <td>0.838532</td>\n",
              "    </tr>\n",
              "  </tbody>\n",
              "</table>\n",
              "</div>"
            ],
            "text/plain": [
              "              positive_sent_score  ...  final_score\n",
              "product_name                       ...             \n",
              "DFPF                       24.420  ...     1.015545\n",
              "Flora Plum                 22.712  ...     0.867999\n",
              "Rare Scooop                22.488  ...     0.838532\n",
              "\n",
              "[3 rows x 4 columns]"
            ]
          },
          "metadata": {},
          "execution_count": 52
        }
      ]
    },
    {
      "cell_type": "code",
      "metadata": {
        "id": "vpCfgPldTrm_",
        "colab": {
          "base_uri": "https://localhost:8080/"
        },
        "outputId": "147e44ba-bdc0-4de6-a49d-2e16c573a12d"
      },
      "source": [
        "import spacy \n",
        "!python -m spacy download en_core_web_md\n",
        "# nlp = spacy.load(\"en_core_web_md\")\n",
        "import en_core_web_md\n",
        "nlp = en_core_web_md.load()\n",
        "import warnings; warnings.simplefilter('ignore')"
      ],
      "execution_count": null,
      "outputs": [
        {
          "output_type": "stream",
          "name": "stdout",
          "text": [
            "Collecting en_core_web_md==2.2.5\n",
            "  Downloading https://github.com/explosion/spacy-models/releases/download/en_core_web_md-2.2.5/en_core_web_md-2.2.5.tar.gz (96.4 MB)\n",
            "\u001b[K     |████████████████████████████████| 96.4 MB 22.2 MB/s \n",
            "\u001b[?25hRequirement already satisfied: spacy>=2.2.2 in /usr/local/lib/python3.7/dist-packages (from en_core_web_md==2.2.5) (2.2.4)\n",
            "Requirement already satisfied: catalogue<1.1.0,>=0.0.7 in /usr/local/lib/python3.7/dist-packages (from spacy>=2.2.2->en_core_web_md==2.2.5) (1.0.0)\n",
            "Requirement already satisfied: numpy>=1.15.0 in /usr/local/lib/python3.7/dist-packages (from spacy>=2.2.2->en_core_web_md==2.2.5) (1.19.5)\n",
            "Requirement already satisfied: setuptools in /usr/local/lib/python3.7/dist-packages (from spacy>=2.2.2->en_core_web_md==2.2.5) (57.4.0)\n",
            "Requirement already satisfied: cymem<2.1.0,>=2.0.2 in /usr/local/lib/python3.7/dist-packages (from spacy>=2.2.2->en_core_web_md==2.2.5) (2.0.5)\n",
            "Requirement already satisfied: plac<1.2.0,>=0.9.6 in /usr/local/lib/python3.7/dist-packages (from spacy>=2.2.2->en_core_web_md==2.2.5) (1.1.3)\n",
            "Requirement already satisfied: requests<3.0.0,>=2.13.0 in /usr/local/lib/python3.7/dist-packages (from spacy>=2.2.2->en_core_web_md==2.2.5) (2.23.0)\n",
            "Requirement already satisfied: murmurhash<1.1.0,>=0.28.0 in /usr/local/lib/python3.7/dist-packages (from spacy>=2.2.2->en_core_web_md==2.2.5) (1.0.5)\n",
            "Requirement already satisfied: tqdm<5.0.0,>=4.38.0 in /usr/local/lib/python3.7/dist-packages (from spacy>=2.2.2->en_core_web_md==2.2.5) (4.62.3)\n",
            "Requirement already satisfied: thinc==7.4.0 in /usr/local/lib/python3.7/dist-packages (from spacy>=2.2.2->en_core_web_md==2.2.5) (7.4.0)\n",
            "Requirement already satisfied: wasabi<1.1.0,>=0.4.0 in /usr/local/lib/python3.7/dist-packages (from spacy>=2.2.2->en_core_web_md==2.2.5) (0.8.2)\n",
            "Requirement already satisfied: preshed<3.1.0,>=3.0.2 in /usr/local/lib/python3.7/dist-packages (from spacy>=2.2.2->en_core_web_md==2.2.5) (3.0.5)\n",
            "Requirement already satisfied: srsly<1.1.0,>=1.0.2 in /usr/local/lib/python3.7/dist-packages (from spacy>=2.2.2->en_core_web_md==2.2.5) (1.0.5)\n",
            "Requirement already satisfied: blis<0.5.0,>=0.4.0 in /usr/local/lib/python3.7/dist-packages (from spacy>=2.2.2->en_core_web_md==2.2.5) (0.4.1)\n",
            "Requirement already satisfied: importlib-metadata>=0.20 in /usr/local/lib/python3.7/dist-packages (from catalogue<1.1.0,>=0.0.7->spacy>=2.2.2->en_core_web_md==2.2.5) (4.8.1)\n",
            "Requirement already satisfied: zipp>=0.5 in /usr/local/lib/python3.7/dist-packages (from importlib-metadata>=0.20->catalogue<1.1.0,>=0.0.7->spacy>=2.2.2->en_core_web_md==2.2.5) (3.6.0)\n",
            "Requirement already satisfied: typing-extensions>=3.6.4 in /usr/local/lib/python3.7/dist-packages (from importlib-metadata>=0.20->catalogue<1.1.0,>=0.0.7->spacy>=2.2.2->en_core_web_md==2.2.5) (3.7.4.3)\n",
            "Requirement already satisfied: idna<3,>=2.5 in /usr/local/lib/python3.7/dist-packages (from requests<3.0.0,>=2.13.0->spacy>=2.2.2->en_core_web_md==2.2.5) (2.10)\n",
            "Requirement already satisfied: chardet<4,>=3.0.2 in /usr/local/lib/python3.7/dist-packages (from requests<3.0.0,>=2.13.0->spacy>=2.2.2->en_core_web_md==2.2.5) (3.0.4)\n",
            "Requirement already satisfied: certifi>=2017.4.17 in /usr/local/lib/python3.7/dist-packages (from requests<3.0.0,>=2.13.0->spacy>=2.2.2->en_core_web_md==2.2.5) (2021.5.30)\n",
            "Requirement already satisfied: urllib3!=1.25.0,!=1.25.1,<1.26,>=1.21.1 in /usr/local/lib/python3.7/dist-packages (from requests<3.0.0,>=2.13.0->spacy>=2.2.2->en_core_web_md==2.2.5) (1.24.3)\n",
            "Building wheels for collected packages: en-core-web-md\n",
            "  Building wheel for en-core-web-md (setup.py) ... \u001b[?25l\u001b[?25hdone\n",
            "  Created wheel for en-core-web-md: filename=en_core_web_md-2.2.5-py3-none-any.whl size=98051302 sha256=bacbb9af17781318bcbb017cf5dd7fc33b4110ebfda4b33ed841754750da0fd5\n",
            "  Stored in directory: /tmp/pip-ephem-wheel-cache-0_ft4qgt/wheels/69/c5/b8/4f1c029d89238734311b3269762ab2ee325a42da2ce8edb997\n",
            "Successfully built en-core-web-md\n",
            "Installing collected packages: en-core-web-md\n",
            "Successfully installed en-core-web-md-2.2.5\n",
            "\u001b[38;5;2m✔ Download and installation successful\u001b[0m\n",
            "You can now load the model via spacy.load('en_core_web_md')\n"
          ]
        }
      ]
    },
    {
      "cell_type": "code",
      "metadata": {
        "id": "spgRrAuEzXF-"
      },
      "source": [
        "user_comment = \"Aggressive Balanced Fruity\" # Balanced, Complex, Crisp, Fruity, Robust\n",
        "doc2 = nlp(user_comment)\n",
        "\n",
        "def find_similarity(review):\n",
        "    review_nlp = nlp(review)\n",
        "    sim_score = review_nlp.similarity(doc2)\n",
        "    return sim_score\n",
        "beer_df['spacy_score'] = beer_df['product_review'].apply(find_similarity)"
      ],
      "execution_count": null,
      "outputs": []
    },
    {
      "cell_type": "code",
      "metadata": {
        "colab": {
          "base_uri": "https://localhost:8080/",
          "height": 173
        },
        "id": "jw_-7XWqzaG5",
        "outputId": "bdce235d-983f-420d-cc67-ddebd79a6f69"
      },
      "source": [
        "score_df = beer_df.groupby('product_name')[['positive_sent_score','spacy_score']].mean()\n",
        "score_df['positive_sent_score_scaled'] = (score_df['positive_sent_score']  - score_df['positive_sent_score'] .min())/(score_df['positive_sent_score'].max() - score_df['positive_sent_score'].min())\n",
        "score_df['final_score'] = score_df['positive_sent_score_scaled'] + score_df['spacy_score']\n",
        "score_df.sort_values(by='final_score',ascending=False)[:3]\n",
        "score_df.reset_index(inplace=True)"
      ],
      "execution_count": null,
      "outputs": [
        {
          "output_type": "execute_result",
          "data": {
            "text/html": [
              "<div>\n",
              "<style scoped>\n",
              "    .dataframe tbody tr th:only-of-type {\n",
              "        vertical-align: middle;\n",
              "    }\n",
              "\n",
              "    .dataframe tbody tr th {\n",
              "        vertical-align: top;\n",
              "    }\n",
              "\n",
              "    .dataframe thead th {\n",
              "        text-align: right;\n",
              "    }\n",
              "</style>\n",
              "<table border=\"1\" class=\"dataframe\">\n",
              "  <thead>\n",
              "    <tr style=\"text-align: right;\">\n",
              "      <th></th>\n",
              "      <th>positive_sent_score</th>\n",
              "      <th>spacy_score</th>\n",
              "      <th>positive_sent_score_scaled</th>\n",
              "      <th>final_score</th>\n",
              "    </tr>\n",
              "    <tr>\n",
              "      <th>product_name</th>\n",
              "      <th></th>\n",
              "      <th></th>\n",
              "      <th></th>\n",
              "      <th></th>\n",
              "    </tr>\n",
              "  </thead>\n",
              "  <tbody>\n",
              "    <tr>\n",
              "      <th>DFPF</th>\n",
              "      <td>24.420</td>\n",
              "      <td>0.584696</td>\n",
              "      <td>1.000000</td>\n",
              "      <td>1.584696</td>\n",
              "    </tr>\n",
              "    <tr>\n",
              "      <th>Flora Plum</th>\n",
              "      <td>22.712</td>\n",
              "      <td>0.609049</td>\n",
              "      <td>0.855646</td>\n",
              "      <td>1.464694</td>\n",
              "    </tr>\n",
              "    <tr>\n",
              "      <th>Keene Idea</th>\n",
              "      <td>22.404</td>\n",
              "      <td>0.579929</td>\n",
              "      <td>0.829615</td>\n",
              "      <td>1.409543</td>\n",
              "    </tr>\n",
              "  </tbody>\n",
              "</table>\n",
              "</div>"
            ],
            "text/plain": [
              "              positive_sent_score  ...  final_score\n",
              "product_name                       ...             \n",
              "DFPF                       24.420  ...     1.584696\n",
              "Flora Plum                 22.712  ...     1.464694\n",
              "Keene Idea                 22.404  ...     1.409543\n",
              "\n",
              "[3 rows x 4 columns]"
            ]
          },
          "metadata": {},
          "execution_count": 64
        }
      ]
    },
    {
      "cell_type": "code",
      "metadata": {
        "colab": {
          "base_uri": "https://localhost:8080/",
          "height": 419
        },
        "id": "Q45aj6MB-5cO",
        "outputId": "a90b7a3e-1fb8-4d32-bcf2-0209fdd21411"
      },
      "source": [
        "score_df"
      ],
      "execution_count": null,
      "outputs": [
        {
          "output_type": "execute_result",
          "data": {
            "text/html": [
              "<div>\n",
              "<style scoped>\n",
              "    .dataframe tbody tr th:only-of-type {\n",
              "        vertical-align: middle;\n",
              "    }\n",
              "\n",
              "    .dataframe tbody tr th {\n",
              "        vertical-align: top;\n",
              "    }\n",
              "\n",
              "    .dataframe thead th {\n",
              "        text-align: right;\n",
              "    }\n",
              "</style>\n",
              "<table border=\"1\" class=\"dataframe\">\n",
              "  <thead>\n",
              "    <tr style=\"text-align: right;\">\n",
              "      <th></th>\n",
              "      <th>product_name</th>\n",
              "      <th>positive_sent_score</th>\n",
              "      <th>spacy_score</th>\n",
              "      <th>positive_sent_score_scaled</th>\n",
              "      <th>final_score</th>\n",
              "    </tr>\n",
              "  </thead>\n",
              "  <tbody>\n",
              "    <tr>\n",
              "      <th>0</th>\n",
              "      <td>A Deal With The Devil</td>\n",
              "      <td>17.152</td>\n",
              "      <td>0.596127</td>\n",
              "      <td>0.385734</td>\n",
              "      <td>0.981861</td>\n",
              "    </tr>\n",
              "    <tr>\n",
              "      <th>1</th>\n",
              "      <td>A Deal With The Devil - Double Oak-Aged</td>\n",
              "      <td>21.232</td>\n",
              "      <td>0.591269</td>\n",
              "      <td>0.730561</td>\n",
              "      <td>1.321830</td>\n",
              "    </tr>\n",
              "    <tr>\n",
              "      <th>2</th>\n",
              "      <td>Aaron</td>\n",
              "      <td>16.152</td>\n",
              "      <td>0.603580</td>\n",
              "      <td>0.301217</td>\n",
              "      <td>0.904797</td>\n",
              "    </tr>\n",
              "    <tr>\n",
              "      <th>3</th>\n",
              "      <td>Abner</td>\n",
              "      <td>17.964</td>\n",
              "      <td>0.594666</td>\n",
              "      <td>0.454361</td>\n",
              "      <td>1.049027</td>\n",
              "    </tr>\n",
              "    <tr>\n",
              "      <th>4</th>\n",
              "      <td>Abrasive Ale</td>\n",
              "      <td>16.800</td>\n",
              "      <td>0.608247</td>\n",
              "      <td>0.355984</td>\n",
              "      <td>0.964231</td>\n",
              "    </tr>\n",
              "    <tr>\n",
              "      <th>...</th>\n",
              "      <td>...</td>\n",
              "      <td>...</td>\n",
              "      <td>...</td>\n",
              "      <td>...</td>\n",
              "      <td>...</td>\n",
              "    </tr>\n",
              "    <tr>\n",
              "      <th>245</th>\n",
              "      <td>Westly</td>\n",
              "      <td>16.724</td>\n",
              "      <td>0.600138</td>\n",
              "      <td>0.349561</td>\n",
              "      <td>0.949698</td>\n",
              "    </tr>\n",
              "    <tr>\n",
              "      <th>246</th>\n",
              "      <td>Wide Awake It's Morning</td>\n",
              "      <td>15.892</td>\n",
              "      <td>0.601688</td>\n",
              "      <td>0.279243</td>\n",
              "      <td>0.880930</td>\n",
              "    </tr>\n",
              "    <tr>\n",
              "      <th>247</th>\n",
              "      <td>Zenne Y Frontera</td>\n",
              "      <td>19.560</td>\n",
              "      <td>0.607828</td>\n",
              "      <td>0.589249</td>\n",
              "      <td>1.197077</td>\n",
              "    </tr>\n",
              "    <tr>\n",
              "      <th>248</th>\n",
              "      <td>Zombie Dust</td>\n",
              "      <td>15.648</td>\n",
              "      <td>0.599928</td>\n",
              "      <td>0.258621</td>\n",
              "      <td>0.858549</td>\n",
              "    </tr>\n",
              "    <tr>\n",
              "      <th>249</th>\n",
              "      <td>§ucaba</td>\n",
              "      <td>17.596</td>\n",
              "      <td>0.592419</td>\n",
              "      <td>0.423259</td>\n",
              "      <td>1.015678</td>\n",
              "    </tr>\n",
              "  </tbody>\n",
              "</table>\n",
              "<p>250 rows × 5 columns</p>\n",
              "</div>"
            ],
            "text/plain": [
              "                                product_name  ...  final_score\n",
              "0                      A Deal With The Devil  ...     0.981861\n",
              "1    A Deal With The Devil - Double Oak-Aged  ...     1.321830\n",
              "2                                      Aaron  ...     0.904797\n",
              "3                                      Abner  ...     1.049027\n",
              "4                               Abrasive Ale  ...     0.964231\n",
              "..                                       ...  ...          ...\n",
              "245                                   Westly  ...     0.949698\n",
              "246                  Wide Awake It's Morning  ...     0.880930\n",
              "247                         Zenne Y Frontera  ...     1.197077\n",
              "248                              Zombie Dust  ...     0.858549\n",
              "249                                   §ucaba  ...     1.015678\n",
              "\n",
              "[250 rows x 5 columns]"
            ]
          },
          "metadata": {},
          "execution_count": 71
        }
      ]
    },
    {
      "cell_type": "markdown",
      "metadata": {
        "id": "DRrlhRgp-8ek"
      },
      "source": [
        "## Task F and G: Recommendations"
      ]
    },
    {
      "cell_type": "code",
      "metadata": {
        "colab": {
          "base_uri": "https://localhost:8080/"
        },
        "id": "gdxdG1hR-vsp",
        "outputId": "3616c2c6-3529-4f9f-fb91-87b3ed9d9748"
      },
      "source": [
        "# Top 3 rated beers from the dataset\n",
        "score_df_top = beer_df.groupby('product_name')['product_rating'].mean()\n",
        "score_df_top.sort_values(ascending=False)[:3]"
      ],
      "execution_count": null,
      "outputs": [
        {
          "output_type": "execute_result",
          "data": {
            "text/plain": [
              "product_name\n",
              "Chemtrailmix             4.77160\n",
              "Vanilla Bean Assassin    4.74625\n",
              "Blessed                  4.74280\n",
              "Name: product_rating, dtype: float64"
            ]
          },
          "metadata": {},
          "execution_count": 65
        }
      ]
    },
    {
      "cell_type": "code",
      "metadata": {
        "id": "JBcUZdah9Llu"
      },
      "source": [
        "top_rated = score_df_top.sort_values(ascending=False)[:3].index"
      ],
      "execution_count": null,
      "outputs": []
    },
    {
      "cell_type": "code",
      "metadata": {
        "id": "M0EufSyWPNSJ",
        "colab": {
          "base_uri": "https://localhost:8080/",
          "height": 142
        },
        "outputId": "88aa7286-bbc0-405e-bbc7-a96efa2210b4"
      },
      "source": [
        "score_df[score_df['product_name'].isin( top_rated)]"
      ],
      "execution_count": null,
      "outputs": [
        {
          "output_type": "execute_result",
          "data": {
            "text/html": [
              "<div>\n",
              "<style scoped>\n",
              "    .dataframe tbody tr th:only-of-type {\n",
              "        vertical-align: middle;\n",
              "    }\n",
              "\n",
              "    .dataframe tbody tr th {\n",
              "        vertical-align: top;\n",
              "    }\n",
              "\n",
              "    .dataframe thead th {\n",
              "        text-align: right;\n",
              "    }\n",
              "</style>\n",
              "<table border=\"1\" class=\"dataframe\">\n",
              "  <thead>\n",
              "    <tr style=\"text-align: right;\">\n",
              "      <th></th>\n",
              "      <th>product_name</th>\n",
              "      <th>positive_sent_score</th>\n",
              "      <th>spacy_score</th>\n",
              "      <th>positive_sent_score_scaled</th>\n",
              "      <th>final_score</th>\n",
              "    </tr>\n",
              "  </thead>\n",
              "  <tbody>\n",
              "    <tr>\n",
              "      <th>38</th>\n",
              "      <td>Blessed</td>\n",
              "      <td>21.4960</td>\n",
              "      <td>0.585656</td>\n",
              "      <td>0.752874</td>\n",
              "      <td>1.338529</td>\n",
              "    </tr>\n",
              "    <tr>\n",
              "      <th>54</th>\n",
              "      <td>Chemtrailmix</td>\n",
              "      <td>16.3440</td>\n",
              "      <td>0.578975</td>\n",
              "      <td>0.317444</td>\n",
              "      <td>0.896420</td>\n",
              "    </tr>\n",
              "    <tr>\n",
              "      <th>238</th>\n",
              "      <td>Vanilla Bean Assassin</td>\n",
              "      <td>21.0625</td>\n",
              "      <td>0.577382</td>\n",
              "      <td>0.716236</td>\n",
              "      <td>1.293617</td>\n",
              "    </tr>\n",
              "  </tbody>\n",
              "</table>\n",
              "</div>"
            ],
            "text/plain": [
              "              product_name  ...  final_score\n",
              "38                 Blessed  ...     1.338529\n",
              "54            Chemtrailmix  ...     0.896420\n",
              "238  Vanilla Bean Assassin  ...     1.293617\n",
              "\n",
              "[3 rows x 5 columns]"
            ]
          },
          "metadata": {},
          "execution_count": 72
        }
      ]
    },
    {
      "cell_type": "markdown",
      "metadata": {
        "id": "pQsk8WDs3HpN"
      },
      "source": [
        "\n",
        "Insight\n",
        "Beer Attributes considered - Aggressive, Balanced, Fruity\n",
        "\n",
        "Our recommendations using Spacy Similarity:\n",
        "1. DFPF \n",
        "2. Flora Plum\n",
        "3. Keene Idea\n",
        "\n",
        "Our recommendations are products that have both high average similarity scores and sentiment scores. It seems that spacy gives much more middle-of-the-road scores while the sentiment scores are more polarized in each direction. \n",
        "\n",
        "\n",
        "After manually glancing through the user reviews for these, we could find that people enjoy the fruity flavor in 'DFPF' and 'Flora Plum,' which backs up our user's 'fruity' preference. The same as our last recommendation - 'Keene Idea,' which is highly regarded for its aggressive and balanced taste. This suggests that our recommendations contain a balanced mix of fruity flavors and do justice to the user preference of 'balanced' and 'fruity.'\n",
        "\n",
        "\n",
        "Top Rated Beers from the dataset:\n",
        "1. Blessed \n",
        "2. Chemtrailmix \n",
        "3. Vanilla Bean Assassin\n",
        "\n",
        "From the user reviews of these top-rated beers, we saw that the top-rated beers are not that bad of a recommendation. They all have around average positive sentiment scores and similarity scores with the attributes.\n",
        "The spacy scores alone are very similar. The recommendations from the spacy similarity have an average spacy score of 0.59, and the recommendations from the dataset have an average spacy score of 0.57. However, compared with the sentiment scores where the spacy recommendations have an average sentiment score of 0.89, and the dataset recommendations have an average of 0.59, the spacy recommendations should be more favorable to the customer. \n",
        "\n",
        "We could infer that these three beers are reasonably good when considering the specific tastes they offer; however, our recommendations should provide the customer with options that better aline with their preferences. "
      ]
    }
  ]
}